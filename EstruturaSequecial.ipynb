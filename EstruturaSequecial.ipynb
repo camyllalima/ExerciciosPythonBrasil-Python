{
  "nbformat": 4,
  "nbformat_minor": 0,
  "metadata": {
    "colab": {
      "provenance": [],
      "authorship_tag": "ABX9TyOc243wTZt5mcFh9fiS8aar",
      "include_colab_link": true
    },
    "kernelspec": {
      "name": "python3",
      "display_name": "Python 3"
    },
    "language_info": {
      "name": "python"
    }
  },
  "cells": [
    {
      "cell_type": "markdown",
      "metadata": {
        "id": "view-in-github",
        "colab_type": "text"
      },
      "source": [
        "<a href=\"https://colab.research.google.com/github/camyllalima/ExerciciosPythonBrasil-Python/blob/main/EstruturaSequecial.ipynb\" target=\"_parent\"><img src=\"https://colab.research.google.com/assets/colab-badge.svg\" alt=\"Open In Colab\"/></a>"
      ]
    },
    {
      "cell_type": "markdown",
      "source": [
        "# **Python Brasil Exercicios**\n",
        "### *Exercícios resolvidos em Python com intuito de salvar meu aprendizado e exercitar o conteúdo aprendido.*\n",
        "\n",
        "Lista disponível no site do Python Brasil:\n",
        "[ListaDeExerciciosPython](http://wiki.python.org.br/ListaDeExercicios)"
      ],
      "metadata": {
        "id": "NtvZ7SpYeneo"
      }
    },
    {
      "cell_type": "markdown",
      "source": [
        "\n",
        "\n",
        "---\n",
        "\n"
      ],
      "metadata": {
        "id": "GDkq7JFNhgee"
      }
    },
    {
      "cell_type": "markdown",
      "source": [
        "# **Exercício 1:**\n",
        "\n",
        "> ## *Faça um Programa que mostre a mensagem \"Alo mundo\" na tela.*"
      ],
      "metadata": {
        "id": "2fyfxiTBdDDJ"
      }
    },
    {
      "cell_type": "code",
      "execution_count": null,
      "metadata": {
        "id": "NzumLMS3clpe"
      },
      "outputs": [],
      "source": [
        "print(\"Alo mundo\")"
      ]
    },
    {
      "cell_type": "markdown",
      "source": [
        "\n",
        "\n",
        "---\n",
        "\n"
      ],
      "metadata": {
        "id": "MvmVZxT1hdqo"
      }
    },
    {
      "cell_type": "markdown",
      "source": [
        "# **Exercício 2:**\n",
        "\n",
        "> ## *Faça um Programa que peça um número e então mostre a mensagem O número informado foi [número].*"
      ],
      "metadata": {
        "id": "bmCAuWB-d31N"
      }
    },
    {
      "cell_type": "code",
      "source": [
        "numero = float(input(\"Digite um número: \"))\n",
        "print(\"O número informado foi\", numero)"
      ],
      "metadata": {
        "id": "e-ZLdp1CeDtR"
      },
      "execution_count": null,
      "outputs": []
    },
    {
      "cell_type": "markdown",
      "source": [
        "\n",
        "\n",
        "---\n",
        "\n"
      ],
      "metadata": {
        "id": "nBlFp7e6hlm8"
      }
    },
    {
      "cell_type": "markdown",
      "source": [
        "# **Exercício 3:**\n",
        "\n",
        "> ## *Faça um Programa que peça dois números e imprima a soma.*"
      ],
      "metadata": {
        "id": "U_6b8iWffgm7"
      }
    },
    {
      "cell_type": "code",
      "source": [
        "numero1 = float(input(\"Digite o primeiro número: \"))\n",
        "numero2 = float(input(\"Digite o segundo número: \"))\n",
        "\n",
        "print(\"A soma dos valores é\",(numero1 + numero2))"
      ],
      "metadata": {
        "id": "8vC6jMH0fqwL"
      },
      "execution_count": null,
      "outputs": []
    },
    {
      "cell_type": "markdown",
      "source": [
        "\n",
        "\n",
        "---\n",
        "\n"
      ],
      "metadata": {
        "id": "KpfMzWB2hpko"
      }
    },
    {
      "cell_type": "markdown",
      "source": [
        "# **Exercício 4:**\n",
        "\n",
        "> ## *Faça um Programa que peça as 4 notas bimestrais e mostre a média.*"
      ],
      "metadata": {
        "id": "kMhIf7pRgeYn"
      }
    },
    {
      "cell_type": "code",
      "source": [
        "nota1 = float(input(\"Digite a primeira nota: \"))\n",
        "nota2 = float(input(\"Digite a segunda nota: \"))\n",
        "nota3 = float(input(\"Digite a terceira nota: \"))\n",
        "nota4 = float(input(\"Digite a quarta nota: \"))\n",
        "\n",
        "media = (nota1 + nota2 + nota3 + nota4) / 4\n",
        "\n",
        "print(\"A média das quatro notas é:\", media)"
      ],
      "metadata": {
        "id": "THQqoHyqgerP"
      },
      "execution_count": null,
      "outputs": []
    },
    {
      "cell_type": "markdown",
      "source": [
        "\n",
        "\n",
        "---\n",
        "\n"
      ],
      "metadata": {
        "id": "X_cq5Ad2hqqP"
      }
    },
    {
      "cell_type": "markdown",
      "source": [
        "# **Exercício 5:**\n",
        "\n",
        "> ## *Faça um Programa que converta metros para centímetros.*"
      ],
      "metadata": {
        "id": "32DyATw6guy1"
      }
    },
    {
      "cell_type": "code",
      "source": [
        "metro = float(input(\"Digite a distância em metros: \"))\n",
        "cent = metro * 100.0\n",
        "print('O resultado da conversão é:', cent)"
      ],
      "metadata": {
        "id": "eupMjErbhUHI"
      },
      "execution_count": null,
      "outputs": []
    },
    {
      "cell_type": "markdown",
      "source": [
        "\n",
        "\n",
        "---\n",
        "\n"
      ],
      "metadata": {
        "id": "RrOTPuWqhsG5"
      }
    },
    {
      "cell_type": "markdown",
      "source": [
        "# **Exercício 6:**\n",
        "\n",
        "> ## *Faça um Programa que peça o raio de um círculo, calcule e mostre sua área.*"
      ],
      "metadata": {
        "id": "h0jv9L1jg57r"
      }
    },
    {
      "cell_type": "code",
      "source": [
        "raio = float(input(\"Digite o raio do círculo: \"))\n",
        "aCirc = (raio**2) * 3.14\n",
        "print('A área do círculo é igual a:', aCirc)"
      ],
      "metadata": {
        "id": "bIPH0yj8hUqW"
      },
      "execution_count": null,
      "outputs": []
    },
    {
      "cell_type": "markdown",
      "source": [
        "\n",
        "\n",
        "---\n",
        "\n"
      ],
      "metadata": {
        "id": "QXBPlMpThtRg"
      }
    },
    {
      "cell_type": "markdown",
      "source": [
        "# **Exercício 7:**\n",
        "\n",
        "> ## *Faça um Programa que calcule a área de um quadrado, em seguida mostre o dobro desta área para o usuário.*"
      ],
      "metadata": {
        "id": "1WhDJmhEg6Dw"
      }
    },
    {
      "cell_type": "code",
      "source": [
        "lado = float(input(\"Digite o valor do lado do quadrado: \"))\n",
        "aQuadrado = lado **2\n",
        "print('O dobro da área do quadrado é igual a:', (aQuadrado*2))"
      ],
      "metadata": {
        "id": "pp0xSxQ7hVIA"
      },
      "execution_count": null,
      "outputs": []
    },
    {
      "cell_type": "markdown",
      "source": [
        "\n",
        "\n",
        "---\n",
        "\n"
      ],
      "metadata": {
        "id": "yuObvN7JhuXP"
      }
    },
    {
      "cell_type": "markdown",
      "source": [
        "# **Exercício 8:**\n",
        "\n",
        "> ## *Faça um Programa que pergunte quanto você ganha por hora e o número de horas trabalhadas no mês. Calcule e mostre o total do seu salário no referido mês.*"
      ],
      "metadata": {
        "id": "cYFd7jC5g6KO"
      }
    },
    {
      "cell_type": "code",
      "source": [
        "valorHora = float(input('Digite o valor da sua hora trabalhada: '))\n",
        "horasTrab = float(input('Digite a quantidade de horas trabalhadas: '))\n",
        "salarioTotal = valorHora * horasTrab\n",
        "\n",
        "print (\"Seu salario neste mês será: R${0}\".format(salarioTotal))"
      ],
      "metadata": {
        "colab": {
          "base_uri": "https://localhost:8080/"
        },
        "id": "NkbCBsZxhVyG",
        "outputId": "13c429c6-5a3d-4e12-d0fa-50cec81ef07a"
      },
      "execution_count": 17,
      "outputs": [
        {
          "output_type": "stream",
          "name": "stdout",
          "text": [
            "Digite o valor da sua hora trabalhada: 78\n",
            "Digite a quantidade de horas trabalhadas: 6\n",
            "Seu salario neste mês será: R$468.0\n"
          ]
        }
      ]
    },
    {
      "cell_type": "markdown",
      "source": [
        "\n",
        "\n",
        "---\n",
        "\n"
      ],
      "metadata": {
        "id": "WLXRNcxxhvbP"
      }
    },
    {
      "cell_type": "markdown",
      "source": [
        "# **Exercício 9:**\n",
        "\n",
        "> ## *Faça um Programa que peça a temperatura em graus Fahrenheit, transforme e mostre a temperatura em graus Celsius.*\n",
        "\n",
        "### `C = 5 * ((F-32) / 9)`"
      ],
      "metadata": {
        "id": "g4rSBBQOg6Pz"
      }
    },
    {
      "cell_type": "code",
      "source": [
        "fahren = float(input(\"Digite a temperatura em Fahrenheit: \"))\n",
        "celsius = ((fahren - 32) / 9) * 5\n",
        "print('O resultado da conversão de fahrenheit para celsius é:', celsius)"
      ],
      "metadata": {
        "id": "VElkOu6hhWLu"
      },
      "execution_count": null,
      "outputs": []
    },
    {
      "cell_type": "markdown",
      "source": [
        "\n",
        "\n",
        "---\n",
        "\n"
      ],
      "metadata": {
        "id": "nACV-y5xhwgP"
      }
    },
    {
      "cell_type": "markdown",
      "source": [
        "# **Exercício 10:**\n",
        "\n",
        "> ## *Faça um Programa que peça a temperatura em graus Celsius, transforme e mostre em graus Fahrenheit.*\n",
        "\n",
        "### `F = (C * 1.8) + 32`\n"
      ],
      "metadata": {
        "id": "bX1L6wfmg6b6"
      }
    },
    {
      "cell_type": "code",
      "source": [
        "celsius = float(input(\"Digite a temperatura em Celsius: \"))\n",
        "fahren = (celsius * 1.8) + 32\n",
        "print('O resultado da conversão de celsius para fahrenheit é:', fahren)"
      ],
      "metadata": {
        "id": "reNLufxShWo-"
      },
      "execution_count": null,
      "outputs": []
    },
    {
      "cell_type": "markdown",
      "source": [
        "\n",
        "\n",
        "---\n",
        "\n"
      ],
      "metadata": {
        "id": "llfCh_HUhxkZ"
      }
    },
    {
      "cell_type": "markdown",
      "source": [
        "# **Exercício 11:**\n",
        "\n",
        "> ## *Faça um Programa que peça 2 números inteiros e um número real. Calcule e mostre:*\n",
        "\n",
        "\n",
        "\n",
        "1.   O produto do dobro do primeiro com metade do segundo.\n",
        "2.   A soma do triplo do primeiro com o terceiro.\n",
        "3.   O terceiro elevado ao cubo.\n"
      ],
      "metadata": {
        "id": "sfxMxWUCg6ht"
      }
    },
    {
      "cell_type": "code",
      "source": [
        "\n",
        "numInt1 = int(input(\"Digite um número inteiro: \"))\n",
        "numInt2 = int(input(\"Digite outro número inteiro: \"))\n",
        "numReal = float(input(\"Digite um número real: \"))\n",
        "\n",
        "a = (numInt1 * 2) * (numInt2 / 2)\n",
        "b = (numInt1 * 3) + numReal\n",
        "c = (numReal **3)\n",
        "\n",
        "print (\"O dobro do primeiro vezes a metade do segundo é: \",a)\n",
        "print (\"A soma do triplo do primeiro com o terceiro é: \",b)\n",
        "print (\"O terceiro elevado ao cubo é: \", c)"
      ],
      "metadata": {
        "id": "w7IFAKDUhXGe"
      },
      "execution_count": null,
      "outputs": []
    },
    {
      "cell_type": "markdown",
      "source": [
        "\n",
        "\n",
        "---\n",
        "\n"
      ],
      "metadata": {
        "id": "kpDChKCLhyb3"
      }
    },
    {
      "cell_type": "markdown",
      "source": [
        "# **Exercício 12:**\n",
        "\n",
        "> ## *Tendo como dados de entrada a altura de uma pessoa, construa um algoritmo que calcule seu peso ideal, usando a seguinte fórmula:*\n",
        "\n",
        "### `(72.2 * altura) - 58`\n",
        "\n",
        "\n",
        "\n"
      ],
      "metadata": {
        "id": "UyiwN3Whg6nY"
      }
    },
    {
      "cell_type": "code",
      "source": [
        "altura = float(input(\"Digite sua altura: \"))\n",
        "pesoIdeal = (altura * 72.7) - 58\n",
        "print(\"Seu peso ideal é: \", pesoIdeal)"
      ],
      "metadata": {
        "id": "bt_XZtiAhXlm"
      },
      "execution_count": null,
      "outputs": []
    },
    {
      "cell_type": "markdown",
      "source": [
        "\n",
        "\n",
        "---\n",
        "\n"
      ],
      "metadata": {
        "id": "rI0HuqBuhzcf"
      }
    },
    {
      "cell_type": "markdown",
      "source": [
        "# **Exercício 13:**\n",
        "\n",
        "> ## *Tendo como dado de entrada a altura (h) de uma pessoa, construa um algoritmo que calcule seu peso ideal, utilizando as seguintes fórmulas:*\n",
        "\n",
        "\n",
        "1.   Para homens: `(72.7*h) - 58`\n",
        "2.   Para mulheres: `(62.1*h) - 44.7`\n",
        "\n"
      ],
      "metadata": {
        "id": "LtXsXK0-g6tY"
      }
    },
    {
      "cell_type": "code",
      "source": [
        "genero = input(\"Digite 'F' ou 'M' conforme seu gênero: \")\n",
        "altura = float(input(\"Digite sua altura: \"))\n",
        "\n",
        "if (genero == 'F'):\n",
        "  pesoIdeal = (altura * 62.1) - 44.7\n",
        "  print(\"Seu peso ideal é: \", pesoIdeal)\n",
        "elif (genero == 'M'):\n",
        "  pesoIdeal = (altura * 72.7) - 58\n",
        "  print(\"Seu peso ideal é: \", pesoIdeal)\n",
        "else:\n",
        "  print(\"Opção Inválida!\")"
      ],
      "metadata": {
        "id": "YEKc673UhYFO"
      },
      "execution_count": null,
      "outputs": []
    },
    {
      "cell_type": "markdown",
      "source": [
        "\n",
        "\n",
        "---\n",
        "\n"
      ],
      "metadata": {
        "id": "182OHi68h0Qn"
      }
    },
    {
      "cell_type": "markdown",
      "source": [
        "# **Exercício 14:**\n",
        "\n",
        "> ## *João Papo-de-Pescador, homem de bem, comprou um microcomputador para controlar o rendimento diário de seu trabalho. Toda vez que ele traz um peso de peixes maior que o estabelecido pelo regulamento de pesca do estado de São Paulo (50 quilos) deve pagar uma multa de R$ 4,00 por quilo excedente. João precisa que você faça um programa que leia a variável peso (peso de peixes) e calcule o excesso. Gravar na variável excesso a quantidade de quilos além do limite e na variável multa o valor da multa que João deverá pagar. Imprima os dados do programa com as mensagens adequadas.*"
      ],
      "metadata": {
        "id": "xVheuOXzg6zx"
      }
    },
    {
      "cell_type": "code",
      "source": [
        "peso = float(input(\"Digite o peso dos peixes pescados: \"))\n",
        "multaKg = 4.0\n",
        "pesoMax = 50.0\n",
        "\n",
        "if (peso > pesoMax):\n",
        "    excesso = peso - pesoMax\n",
        "    print(\"Excesso de peso: \", excesso)\n",
        "    print(\"Valor da multa por excesso: \", excesso * multaKg)\n",
        "else:\n",
        "    print(\"Não houve excesso de peso.\")"
      ],
      "metadata": {
        "id": "XDIMxAw3hYmW"
      },
      "execution_count": null,
      "outputs": []
    },
    {
      "cell_type": "markdown",
      "source": [
        "\n",
        "\n",
        "---\n",
        "\n"
      ],
      "metadata": {
        "id": "eylV_D37h1Hn"
      }
    },
    {
      "cell_type": "markdown",
      "source": [
        "# **Exercício 15:**\n",
        "\n",
        "> ## *Faça um Programa que pergunte quanto você ganha por hora e o número de horas trabalhadas no mês. Calcule e mostre o total do seu salário no referido mês, sabendo-se que são descontados 11% para o Imposto de Renda, 8% para o INSS e 5% para o sindicato, faça um programa que nos dê:*\n",
        "\n",
        "\n",
        "\n",
        "1.   Salário bruto\n",
        "2.   Quanto pagou ao INSS\n",
        "3.   Quanto pagou ao sindicato\n",
        "4.   Salário líquido\n",
        "5.   Calcule os descontos e o salário líquido, conforme a tabela abaixo:\n",
        "\n",
        "```\n",
        "+ Salário Bruto : R$\n",
        "- IR (11%) : R$\n",
        "- INSS (8%) : R$\n",
        "- Sindicato ( 5%) : R$\n",
        "= Salário Liquido : R$\n",
        "```\n",
        "*Obs.: Salário Bruto - Descontos = Salário Líquido.*\n",
        "\n",
        "\n",
        "\n"
      ],
      "metadata": {
        "id": "K5sIKhZmhL-p"
      }
    },
    {
      "cell_type": "code",
      "source": [
        "valorHora = float(input('Digite o valor da sua hora trabalhada: '))\n",
        "horasTrab = float(input('Digite a quantidade de horas trabalhadas: '))\n",
        "\n",
        "salarioBruto = valorHora * horasTrab\n",
        "impostoRenda = salarioBruto * 0.11\n",
        "inss = salarioBruto * 0.08\n",
        "sindicato = salarioBruto * 0.05\n",
        "salarioLiquido = salarioBruto - impostoRenda - inss - sindicato\n",
        "\n",
        "print(\"Salário Bruto: R${0}\".format(salarioBruto))\n",
        "print(\"Imposto de Renda: R${0}\".format(impostoRenda))\n",
        "print(\"INSS: R${0}\".format(inss))\n",
        "print(\"Sindicato: R${0}\".format(sindicato))\n",
        "print(\"Salario Liquido: R${0}\".format(salarioLiquido)) "
      ],
      "metadata": {
        "id": "G11fX-P3hZB-"
      },
      "execution_count": null,
      "outputs": []
    },
    {
      "cell_type": "markdown",
      "source": [
        "\n",
        "\n",
        "---\n",
        "\n"
      ],
      "metadata": {
        "id": "YwR4Vctdh173"
      }
    },
    {
      "cell_type": "markdown",
      "source": [
        "# **Exercício 16:**\n",
        "\n",
        "> ## *Faça um programa para uma loja de tintas. O programa deverá pedir o tamanho em metros quadrados da área a ser pintada. Considere que a cobertura da tinta é de 1 litro para cada 3 metros quadrados e que a tinta é vendida em latas de 18 litros, que custam R$ 80,00. Informe ao usuário a quantidades de latas de tinta a serem compradas e o preço total.*"
      ],
      "metadata": {
        "id": "dfifuL6dhMa9"
      }
    },
    {
      "cell_type": "code",
      "source": [
        "tamanho = float(input(\"Digite quantos metros quadrados devem ser pintados: \"))\n",
        "\n",
        "litros = tamanho / 3.0\n",
        "latas = int(litros / 18.0)\n",
        "\n",
        "if (litros % 18 != 0):\n",
        "    latas += 1\n",
        "\n",
        "print(\"Você deverá comprar: {0} latas.\".format(latas))\n",
        "print(\"O valor total é: R${0}\".format(latas * 80))"
      ],
      "metadata": {
        "id": "dL2MX6VJhZft"
      },
      "execution_count": null,
      "outputs": []
    },
    {
      "cell_type": "markdown",
      "source": [
        "\n",
        "\n",
        "---\n",
        "\n"
      ],
      "metadata": {
        "id": "fQWTLvNhh2vv"
      }
    },
    {
      "cell_type": "markdown",
      "source": [
        "# **Exercício 17:**\n",
        "\n",
        "> ## *Faça um Programa para uma loja de tintas. O programa deverá pedir o tamanho em metros quadrados da área a ser pintada. Considere que a cobertura da tinta é de 1 litro para cada 6 metros quadrados e que a tinta é vendida em latas de 18 litros, que custam R$ 80,00 ou galões de 3,6 litros, que custam RS 25,00. Informe ao usuário as quantidades de tinta a serem compradas e os respectivos preços em 3 situações:*\n",
        "\n",
        "1.   Comprar apenas latas de 18 litros\n",
        "2.   Comprar apenas galões de 3,6 litros\n",
        "3.   Misturar latas e galões, de forma que o desperdício de tinta seja menor.\n",
        "\n",
        "Acrescente 10% de folga e sempre arredonde os valores para cima, isto é, considere latas cheias.\n",
        "\n",
        "\n"
      ],
      "metadata": {
        "id": "XN_QaP9qhMi7"
      }
    },
    {
      "cell_type": "code",
      "source": [
        "tamanho = float(input(\"Digite quantos metros quadrados devem ser pintados: \"))\n",
        "\n",
        "litros = (tamanho / 6.0) * 1.1\n",
        "latas = int(litros / 18.0)\n",
        "galoes = int(litros / 3.6)\n",
        "\n",
        "if (litros % 18 != 0):\n",
        "    latas += 1\n",
        "\n",
        "if (litros % 3.6 != 0):\n",
        "    galoes += 1\n",
        "\n",
        "mixLatas = int(litros / 18.0)\n",
        "mixGaloes = int((litros - (mixLatas * 18.0)) / 3.6)\n",
        "\n",
        "if ((litros - (mixLatas * 18.0) % 3.6 != 0)):\n",
        "    mixGaloes += 1\n",
        "\n",
        "print(\"Quantidade de latas: {0} | Valor Total: R${1}\".format(latas, (latas*80)))\n",
        "print(\"Quantidade de galões: {0} | Valor Total: R${1}\".format(galoes, (galoes*25)))\n",
        "print(\"Quantidade de latas misturadas: {0} | Quantidade de galões misturados: {1} | Valor Total: R${2}\".format(mixLatas, mixGaloes,((mixLatas*80) + (mixGaloes*25))))\n"
      ],
      "metadata": {
        "id": "9i2vw5PwhZ7u"
      },
      "execution_count": null,
      "outputs": []
    },
    {
      "cell_type": "markdown",
      "source": [
        "\n",
        "\n",
        "---\n",
        "\n"
      ],
      "metadata": {
        "id": "gBmNqia9h3j3"
      }
    },
    {
      "cell_type": "markdown",
      "source": [
        "# **Exercício 18:**\n",
        "\n",
        "> ## *Faça um programa que peça o tamanho de um arquivo para download (em MB) e a velocidade de um link de Internet (em Mbps), calcule e informe o tempo aproximado de download do arquivo usando este link (em minutos).*"
      ],
      "metadata": {
        "id": "37_rQFjnhMrf"
      }
    },
    {
      "cell_type": "code",
      "source": [
        "tamanho = float(input(\"Digite o tamanho do arquivo (em MB): \"))\n",
        "velocidade = float(input(\"Digite a velocidade de conexão (em Mbps): \"))\n",
        "\n",
        "tamanhoBits = tamanho * 1024 * 1024 * 8\n",
        "tempoSeg = tamanhoBits / (velocidade * 1024 * 1024)\n",
        "tempoMin = tempoSeg / 60\n",
        "\n",
        "print(\"O tempo aproximado de download é: {0} minutos\".format(tempoMin))"
      ],
      "metadata": {
        "id": "DAlnBv25haX9"
      },
      "execution_count": null,
      "outputs": []
    },
    {
      "cell_type": "markdown",
      "source": [
        "\n",
        "\n",
        "---\n",
        "\n"
      ],
      "metadata": {
        "id": "lh4_bnHFh42n"
      }
    }
  ]
}